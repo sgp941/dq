{
 "cells": [
  {
   "cell_type": "markdown",
   "metadata": {
    "collapsed": true
   },
   "source": [
    "# Hacker News Pipeline\n",
    "\n",
    "In this project, we will build a pipeline, and apply it to a real world dataset. From a JSON API, we will filter, clean, aggregate, and summarize data in a sequence of tasks that will apply these transformations for us.\n",
    "\n",
    "The data we will use comes from a [Hacker News](https://news.ycombinator.com/) (HN) API that returns JSON data of the top stories in 2014. Hacker News is a link aggregator website that users vote up stories that are interesting to the community. It is similar to Reddit, but the community only revolves around on computer science and entrepreneurship posts.\n",
    "\n",
    "To make things easier, a list of JSON posts has already been downloaded to a file called `hn_stories_2014.json`. The JSON file contains a single key `stories`, which contains a list of stories (posts). Each post has a set of keys, but we will deal only with the following keys:\n",
    "\n",
    "- `created_at`: A timestamp of the story's creation time.\n",
    "- `created_at_i`: A unix epoch timestamp.\n",
    "- `url`: The URL of the story link.\n",
    "- `objectID`: The ID of the story.\n",
    "- `author`: The story's author (username on HN).\n",
    "- `points`: The number of upvotes the story had.\n",
    "- `title`: The headline of the post.\n",
    "- `num_comments`: The number of a comments a post has.\n",
    "\n",
    "The goal will be to find the top 100 keywords of Hacker News posts in 2014. Because Hacker News is the most popular technology social media site, this will give us an understanding of the most talked about tech topics in 2014!"
   ]
  },
  {
   "cell_type": "code",
   "execution_count": 15,
   "metadata": {
    "collapsed": true
   },
   "outputs": [],
   "source": [
    "from pipeline import Pipeline\n",
    "pipeline = Pipeline()"
   ]
  },
  {
   "cell_type": "markdown",
   "metadata": {},
   "source": [
    "## Loading JSON data\n",
    "\n",
    "We'll start the project by loading the JSON file data into Python. Because JSON files resemble a key-value dictionary, the goal is to parse the JSON file into a Python `dict` object. We can accomplish this using the `json` module."
   ]
  },
  {
   "cell_type": "code",
   "execution_count": 16,
   "metadata": {
    "collapsed": true
   },
   "outputs": [],
   "source": [
    "import json\n",
    "\n",
    "@pipeline.task()\n",
    "def file_to_json():\n",
    "    with open('hn_stories_2014.json', 'r') as f:\n",
    "        data = json.load(f)\n",
    "        stories = data['stories']\n",
    "    return stories"
   ]
  },
  {
   "cell_type": "markdown",
   "metadata": {},
   "source": [
    "## Filtering the stories\n",
    "\n",
    "Now that we have loaded in all the stories as a list of `dict` objects, we can now operate on them. Let's start by filtering the list of stories to get the most popular stories of the year.\n",
    "\n",
    "Like any social link aggregator site, individual users can post whatever content they want. The reason we want the most popular stories is to ensure that we select stories that were the most talked about during the year. We can filter for popular stories by ensuring they are links (not Ask HN posts), have a good number of points, and have some comments."
   ]
  },
  {
   "cell_type": "code",
   "execution_count": 17,
   "metadata": {},
   "outputs": [],
   "source": [
    "@pipeline.task(depends_on=file_to_json)\n",
    "def filter_stories(stories):\n",
    "    def is_popular(story):\n",
    "        return (\n",
    "            story['points'] > 50 \n",
    "            and story['num_comments'] > 1 \n",
    "            and not story['title'].startswith('Ask HN')\n",
    "        )\n",
    "    \n",
    "    return (\n",
    "        story for story in stories\n",
    "        if is_popular(story)\n",
    "    )"
   ]
  },
  {
   "cell_type": "markdown",
   "metadata": {},
   "source": [
    "## Convert to csv\n",
    "\n",
    "With a reduced set of stories, we can write these `dict` objects to a CSV file. The purpose of translating the dictionaries to a CSV is that we want to have a consistent data format when running the later summarizations. By keeping consistent data formats, each of your pipeline tasks will be adaptable with future task requirements."
   ]
  },
  {
   "cell_type": "code",
   "execution_count": 26,
   "metadata": {},
   "outputs": [],
   "source": [
    "from pipeline import build_csv\n",
    "from datetime import datetime\n",
    "import io\n",
    "\n",
    "@pipeline.task(depends_on=filter_stories)\n",
    "def json_to_csv(stories):\n",
    "    lines = []\n",
    "    for story in stories:\n",
    "        lines.append(\n",
    "            (\n",
    "                story['objectID'], \n",
    "                datetime.strptime(story['created_at'], \"%Y-%m-%dT%H:%M:%SZ\"), \n",
    "                story['url'], \n",
    "                story['points'], \n",
    "                story['title']\n",
    "            )\n",
    "        )\n",
    "        \n",
    "    return build_csv(\n",
    "        lines, \n",
    "        header=['objectID', 'created_at', 'url', 'points', 'title'], \n",
    "        file=io.StringIO()\n",
    "    )\n"
   ]
  },
  {
   "cell_type": "markdown",
   "metadata": {},
   "source": [
    "## Extract title column\n",
    "\n",
    "Using the CSV file format we created in the previous task, we can now extract the title column. Once we have extracted the titles of each popular post, we can then run the next word frequency task."
   ]
  },
  {
   "cell_type": "code",
   "execution_count": 28,
   "metadata": {
    "collapsed": true
   },
   "outputs": [],
   "source": [
    "import csv\n",
    "\n",
    "@pipeline.task(depends_on=json_to_csv)\n",
    "def extract_titles(csv_file):\n",
    "    reader = csv.reader(csv_file)\n",
    "    header = next(reader)\n",
    "    idx = header.index('title')\n",
    "    \n",
    "    return (line[idx] for line in reader)"
   ]
  },
  {
   "cell_type": "markdown",
   "metadata": {},
   "source": [
    "## Clean titles\n",
    "\n",
    "Because we're trying to create a word frequency model of words from Hacker News titles, we need a way to create a consistent set of words to use. For example, words like '`Google`', '`google`', '`GooGle?`', and '`google.`', all mean the same keyword: '`google`'. If we were to split the title into words, however, they would all be lumped into different categories.\n",
    "\n",
    "To clean the titles, we should make sure to lower case the titles, and to remove the punctuation."
   ]
  },
  {
   "cell_type": "code",
   "execution_count": 20,
   "metadata": {
    "collapsed": true
   },
   "outputs": [],
   "source": [
    "import string\n",
    "\n",
    "@pipeline.task(depends_on=extract_titles)\n",
    "def clean_title(titles):\n",
    "    for title in titles:\n",
    "        title = title.lower()\n",
    "        title = ''.join(c for c in title if c not in string.punctuation)\n",
    "        yield title"
   ]
  },
  {
   "cell_type": "markdown",
   "metadata": {},
   "source": [
    "## Create word frequency dictionary\n",
    "\n",
    "With a cleaned title, we can now build the word frequency dictionary. A word frequency dictionary are key value pairs that connects a word to the number of times it is used in a text.\n",
    "\n",
    "To find actual keywords, we should enforce the word frequency dictionary to not include stop words. Stop words are words that occur frequently in language like \"the\", \"or\", etc., and are commonly rejected in keyword searches."
   ]
  },
  {
   "cell_type": "code",
   "execution_count": 21,
   "metadata": {
    "collapsed": true
   },
   "outputs": [],
   "source": [
    "from stop_words import stop_words\n",
    "\n",
    "@pipeline.task(depends_on=clean_title)\n",
    "def build_keyword_dictionary(titles):\n",
    "    word_freq = {}\n",
    "    \n",
    "    for title in titles:\n",
    "        for word in title.split(' '):\n",
    "            if word and word not in stop_words:\n",
    "                if word not in word_freq:\n",
    "                    word_freq[word] = 1\n",
    "                word_freq[word] += 1\n",
    "                \n",
    "    return word_freq"
   ]
  },
  {
   "cell_type": "markdown",
   "metadata": {},
   "source": [
    "## Sorting the top words\n",
    "\n",
    "Finally, we're ready to sort the top words used in all the titles."
   ]
  },
  {
   "cell_type": "code",
   "execution_count": 22,
   "metadata": {
    "collapsed": true
   },
   "outputs": [],
   "source": [
    "@pipeline.task(depends_on=build_keyword_dictionary)\n",
    "def top_keywords(word_freq):\n",
    "    freq_tuple = [\n",
    "        (word, word_freq[word])\n",
    "        for word in sorted(word_freq, key=word_freq.get, reverse=True)\n",
    "    ]\n",
    "    return freq_tuple[:100]"
   ]
  },
  {
   "cell_type": "markdown",
   "metadata": {},
   "source": [
    "## Running the pipeline"
   ]
  },
  {
   "cell_type": "code",
   "execution_count": 29,
   "metadata": {},
   "outputs": [
    {
     "data": {
      "text/plain": [
       "[('new', 186),\n",
       " ('google', 168),\n",
       " ('bitcoin', 102),\n",
       " ('open', 93),\n",
       " ('programming', 91),\n",
       " ('web', 89),\n",
       " ('data', 86),\n",
       " ('video', 80),\n",
       " ('python', 76),\n",
       " ('code', 73),\n",
       " ('released', 72),\n",
       " ('facebook', 72),\n",
       " ('using', 71),\n",
       " ('javascript', 66),\n",
       " ('2013', 66),\n",
       " ('free', 65),\n",
       " ('source', 65),\n",
       " ('game', 64),\n",
       " ('internet', 63),\n",
       " ('microsoft', 60),\n",
       " ('c', 60),\n",
       " ('linux', 59),\n",
       " ('app', 58),\n",
       " ('pdf', 56),\n",
       " ('work', 55),\n",
       " ('language', 55),\n",
       " ('2014', 53),\n",
       " ('software', 53),\n",
       " ('startup', 52),\n",
       " ('make', 51),\n",
       " ('apple', 51),\n",
       " ('use', 51),\n",
       " ('yc', 49),\n",
       " ('time', 49),\n",
       " ('security', 49),\n",
       " ('github', 46),\n",
       " ('nsa', 46),\n",
       " ('windows', 45),\n",
       " ('like', 42),\n",
       " ('way', 42),\n",
       " ('world', 42),\n",
       " ('heartbleed', 41),\n",
       " ('computer', 41),\n",
       " ('1', 41),\n",
       " ('project', 41),\n",
       " ('ios', 38),\n",
       " ('users', 38),\n",
       " ('git', 38),\n",
       " ('dont', 38),\n",
       " ('design', 38),\n",
       " ('life', 37),\n",
       " ('os', 37),\n",
       " ('developer', 37),\n",
       " ('vs', 37),\n",
       " ('ceo', 37),\n",
       " ('twitter', 37),\n",
       " ('big', 36),\n",
       " ('day', 36),\n",
       " ('android', 35),\n",
       " ('online', 35),\n",
       " ('years', 34),\n",
       " ('court', 34),\n",
       " ('simple', 34),\n",
       " ('says', 33),\n",
       " ('mt', 33),\n",
       " ('api', 33),\n",
       " ('apps', 33),\n",
       " ('guide', 33),\n",
       " ('browser', 33),\n",
       " ('learning', 33),\n",
       " ('problem', 32),\n",
       " ('engine', 32),\n",
       " ('firefox', 32),\n",
       " ('fast', 32),\n",
       " ('gox', 32),\n",
       " ('server', 32),\n",
       " ('site', 32),\n",
       " ('mozilla', 32),\n",
       " ('amazon', 31),\n",
       " ('introducing', 31),\n",
       " ('year', 31),\n",
       " ('text', 30),\n",
       " ('built', 30),\n",
       " ('support', 30),\n",
       " ('million', 30),\n",
       " ('better', 30),\n",
       " ('people', 30),\n",
       " ('stop', 30),\n",
       " ('development', 29),\n",
       " ('3', 29),\n",
       " ('does', 29),\n",
       " ('tech', 29),\n",
       " ('library', 28),\n",
       " ('website', 28),\n",
       " ('2048', 28),\n",
       " ('billion', 28),\n",
       " ('chrome', 28),\n",
       " ('money', 28),\n",
       " ('did', 28),\n",
       " ('just', 28)]"
      ]
     },
     "execution_count": 29,
     "metadata": {},
     "output_type": "execute_result"
    }
   ],
   "source": [
    "ran = pipeline.run()\n",
    "ran[top_keywords]"
   ]
  },
  {
   "cell_type": "markdown",
   "metadata": {},
   "source": [
    "The final result yielded some interesting keywords. There were terms like 'bitcoin' (the cryptocurrency), 'heartbleed' (the 2014 hack), and many others. Even though this was a basic natural language processing task, it did provide some interesting insights into conversations from 2014. \n",
    "\n",
    "## Next steps \n",
    "\n",
    "Here are few potential next steps:\n",
    "\n",
    "- Rewrite the Pipeline class' output to save a file of the output for each task. This will allow us to \"checkpoint\" tasks so they don't have to be run twice.\n",
    "- Use the nltk package for more advanced natural language processing tasks.\n",
    "- Convert to a CSV before filtering, so we can keep all the stories from 2014 in a raw file.\n",
    "- Fetch the data from Hacker News directly from a JSON API. Instead of reading from the file, and perform additional data processing using newer data."
   ]
  },
  {
   "cell_type": "code",
   "execution_count": null,
   "metadata": {
    "collapsed": true
   },
   "outputs": [],
   "source": []
  }
 ],
 "metadata": {
  "anaconda-cloud": {},
  "kernelspec": {
   "display_name": "Python 3",
   "language": "python",
   "name": "python3"
  },
  "language_info": {
   "codemirror_mode": {
    "name": "ipython",
    "version": 3
   },
   "file_extension": ".py",
   "mimetype": "text/x-python",
   "name": "python",
   "nbconvert_exporter": "python",
   "pygments_lexer": "ipython3",
   "version": "3.6.1"
  }
 },
 "nbformat": 4,
 "nbformat_minor": 1
}
