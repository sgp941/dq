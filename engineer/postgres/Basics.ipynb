{
 "cells": [
  {
   "cell_type": "markdown",
   "metadata": {},
   "source": [
    "# Building a database for crime reports\n",
    "\n",
    "In this project, we will build a database for storing data related with crimes that occurred in Boston. This dataset is available in the file \"boston.csv\". The following diagram illustrates a high level overview of what we want to achieve:\n",
    "\n",
    "<img src='https://dq-content.s3.amazonaws.com/250/goal.png'>\n",
    "\n",
    "## Creating the crime database\n",
    "\n",
    "We will start by creating a database for storing our crime data as well as a schema for containing the tables. Since the crime_db does not exist yet, we will create it by connecting to the dq database."
   ]
  },
  {
   "cell_type": "code",
   "execution_count": 1,
   "metadata": {
    "collapsed": true
   },
   "outputs": [],
   "source": [
    "import psycopg2\n",
    "conn = psycopg2.connect(dbname=\"dq\", user=\"dq\")\n",
    "\n",
    "# set autocommit to True bacause this is required for creating databases\n",
    "conn.autocommit = True\n",
    "cur = conn.cursor()\n",
    "\n",
    "# create the crime_db database\n",
    "cur.execute(\"CREATE DATABASE crime_db;\")\n",
    "conn.close()"
   ]
  },
  {
   "cell_type": "code",
   "execution_count": 2,
   "metadata": {
    "collapsed": true
   },
   "outputs": [],
   "source": [
    "# now the crime_db database exists to we can connect to it\n",
    "conn = psycopg2.connect(dbname=\"crime_db\", user=\"dq\")\n",
    "conn.autocommit = True\n",
    "cur = conn.cursor()\n",
    "\n",
    "# create the crimes schema\n",
    "cur.execute(\"CREATE SCHEMA crimes;\")"
   ]
  },
  {
   "cell_type": "markdown",
   "metadata": {},
   "source": [
    "## Column names and data sample\n",
    "\n",
    "We now have a database and a schema — we are ready to start creating tables. Before we do that, let's gather some data about our crime dataset so that we can more easily select the right datatypes to use in our table."
   ]
  },
  {
   "cell_type": "code",
   "execution_count": 22,
   "metadata": {
    "collapsed": false
   },
   "outputs": [
    {
     "name": "stdout",
     "output_type": "stream",
     "text": [
      "The column headers for the dataset are as follows:\n",
      "\n",
      "['incident_number', 'offense_code', 'description', 'date', 'day_of_the_week', 'lat', 'long']\n",
      "['1', '619', 'LARCENY ALL OTHERS', '2018-09-02', 'Sunday', '42.35779134', '-71.13937053']\n"
     ]
    }
   ],
   "source": [
    "import csv\n",
    "with open('boston.csv') as file:\n",
    "    reader = csv.reader(file)\n",
    "    col_headers = next(reader)\n",
    "    first_row = next(reader)\n",
    "print('The column headers for the dataset are as follows:\\n')\n",
    "print(col_headers)\n",
    "print(first_row)"
   ]
  },
  {
   "cell_type": "code",
   "execution_count": 13,
   "metadata": {
    "collapsed": false
   },
   "outputs": [],
   "source": [
    "import pandas as pd\n",
    "def get_col_value_set(filename, col_index):\n",
    "    df = pd.read_csv(filename)\n",
    "    value_counts = df.iloc[:,col_index].value_counts()\n",
    "    return list(value_counts.index)"
   ]
  },
  {
   "cell_type": "code",
   "execution_count": 14,
   "metadata": {
    "collapsed": false
   },
   "outputs": [
    {
     "name": "stdout",
     "output_type": "stream",
     "text": [
      "The unique value counts for each column is as follows\n"
     ]
    },
    {
     "data": {
      "text/plain": [
       "{'date': 1177,\n",
       " 'day_of_the_week': 7,\n",
       " 'description': 239,\n",
       " 'incident_number': 298329,\n",
       " 'lat': 18177,\n",
       " 'long': 18177,\n",
       " 'offense_code': 219}"
      ]
     },
     "execution_count": 14,
     "metadata": {},
     "output_type": "execute_result"
    }
   ],
   "source": [
    "filename = 'boston.csv'\n",
    "value_counts = {}\n",
    "for i, col in enumerate(col_headers):\n",
    "    values = get_col_value_set(filename, i)\n",
    "    value_counts[col] = len(values)\n",
    "print('The unique value counts for each column is as follows')\n",
    "value_counts"
   ]
  },
  {
   "cell_type": "markdown",
   "metadata": {},
   "source": [
    "With this function we can compute the number of distinct values for each column. Columns with a low number of distinct values tend to be good candidates for enumerated datatypes. \n",
    "\n",
    "Another important aspect is to know the longest word in any column containing textual data. There are two textual column in the data set, namely, the **description** and **day_of_the_week** columns. However the day of the week contains only 7 values, one for each day. We can tell that the longest of them is *Wednesday* without needing any computation."
   ]
  },
  {
   "cell_type": "code",
   "execution_count": 20,
   "metadata": {
    "collapsed": false
   },
   "outputs": [
    {
     "name": "stdout",
     "output_type": "stream",
     "text": [
      "The maximum length of a value in the Description field is 58 characters\n"
     ]
    }
   ],
   "source": [
    "desc_index = 2\n",
    "values = get_col_value_set(filename, desc_index)\n",
    "val_lengths = []\n",
    "for value in values:\n",
    "    val_lengths.append(len(value))\n",
    "max_length = max(val_lengths)\n",
    "print('The maximum length of a value in the Description field is {} characters'.format(max_length))"
   ]
  },
  {
   "cell_type": "markdown",
   "metadata": {},
   "source": [
    "## Creating the table\n",
    "\n",
    "Here are some of the design considerations for the data types: \n",
    "\n",
    "- We are going with an enumerated datatype named `weekday` for `the day_of_the_week` since there there only seven possible values.\n",
    "- Since the `description` has at most 58 character we decided to use the datatype VARCHAR(100) for representing it. This leaves some margin while not being so big that we will waste a lot of memory.\n",
    "- For the `incident_number` we have decided to use the type INTEGER and set it as the primary key. The same datatype will also be used to represent the `offense_code`.\n",
    "- The `lat` and `long` column see to need to hold quite a lot of precision so we will use the decimal type.\n",
    "\n",
    "From the result of printing `first_row`, and the considerations above, the final data types we will be using are as follows: \n",
    "\n",
    "| column | data | dtype |\n",
    "| :- | :-: | :-: |\n",
    "| incident_number | integer number | INTEGER |\n",
    "| offense_code | integer number | INTEGER |\n",
    "| description | string | VARCHAR(100) |\n",
    "| date | date | DATE |\n",
    "| day_of_the_week | string | ENUM |  \n",
    "| lat | decimal number | DECIMAL |\n",
    "| long | decimal number| DECIMAL | \n",
    "\n"
   ]
  },
  {
   "cell_type": "code",
   "execution_count": 23,
   "metadata": {
    "collapsed": true
   },
   "outputs": [],
   "source": [
    "# create the enumerated datatype for representing the weekday\n",
    "cur.execute(\"\"\"\n",
    "    CREATE TYPE weekday AS ENUM ('Monday', 'Tuesday', 'Wednesday', 'Thursday', 'Friday', 'Saturday', 'Sunday');\n",
    "\"\"\")\n",
    "\n",
    "# create the table\n",
    "cur.execute(\"\"\"\n",
    "    CREATE TABLE crimes.boston_crimes (\n",
    "        incident_number INTEGER PRIMARY KEY,\n",
    "        offense_code INTEGER,\n",
    "        description VARCHAR(100),\n",
    "        date DATE,\n",
    "        day_of_the_week weekday,\n",
    "        lat decimal,\n",
    "        long decimal\n",
    "    );\n",
    "\"\"\")"
   ]
  },
  {
   "cell_type": "markdown",
   "metadata": {},
   "source": [
    "## Loading the data\n",
    "\n",
    "Now that we have created the table, we can load the data into it."
   ]
  },
  {
   "cell_type": "code",
   "execution_count": 25,
   "metadata": {
    "collapsed": false
   },
   "outputs": [
    {
     "ename": "IntegrityError",
     "evalue": "duplicate key value violates unique constraint \"boston_crimes_pkey\"\nDETAIL:  Key (incident_number)=(1) already exists.\nCONTEXT:  COPY boston_crimes, line 2\n",
     "output_type": "error",
     "traceback": [
      "\u001b[1;31m\u001b[0m",
      "\u001b[1;31mIntegrityError\u001b[0mTraceback (most recent call last)",
      "\u001b[1;32m<ipython-input-25-35a921c74b9f>\u001b[0m in \u001b[0;36m<module>\u001b[1;34m()\u001b[0m\n\u001b[0;32m      1\u001b[0m \u001b[1;32mwith\u001b[0m \u001b[0mopen\u001b[0m\u001b[1;33m(\u001b[0m\u001b[0mfilename\u001b[0m\u001b[1;33m)\u001b[0m \u001b[1;32mas\u001b[0m \u001b[0mf\u001b[0m\u001b[1;33m:\u001b[0m\u001b[1;33m\u001b[0m\u001b[0m\n\u001b[1;32m----> 2\u001b[1;33m     \u001b[0mcur\u001b[0m\u001b[1;33m.\u001b[0m\u001b[0mcopy_expert\u001b[0m\u001b[1;33m(\u001b[0m\u001b[1;34m'COPY crimes.boston_crimes FROM STDIN WITH CSV HEADER;'\u001b[0m\u001b[1;33m,\u001b[0m \u001b[0mf\u001b[0m\u001b[1;33m)\u001b[0m\u001b[1;33m\u001b[0m\u001b[0m\n\u001b[0m\u001b[0;32m      3\u001b[0m \u001b[1;33m\u001b[0m\u001b[0m\n\u001b[0;32m      4\u001b[0m \u001b[1;31m# print the number of rows to ensure that they were loaded\u001b[0m\u001b[1;33m\u001b[0m\u001b[1;33m\u001b[0m\u001b[0m\n\u001b[0;32m      5\u001b[0m \u001b[0mcur\u001b[0m\u001b[1;33m.\u001b[0m\u001b[0mexecute\u001b[0m\u001b[1;33m(\u001b[0m\u001b[1;34m\"SELECT * FROM crimes.boston_crimes\"\u001b[0m\u001b[1;33m)\u001b[0m\u001b[1;33m\u001b[0m\u001b[0m\n",
      "\u001b[1;31mIntegrityError\u001b[0m: duplicate key value violates unique constraint \"boston_crimes_pkey\"\nDETAIL:  Key (incident_number)=(1) already exists.\nCONTEXT:  COPY boston_crimes, line 2\n"
     ]
    }
   ],
   "source": [
    "# load the data from boston.csv into the table boston_crimes that is in the crimes schema\n",
    "with open(filename) as f:\n",
    "    cur.copy_expert('COPY crimes.boston_crimes FROM STDIN WITH CSV HEADER;', f)\n",
    "    \n",
    "# print the number of rows to ensure that they were loaded\n",
    "cur.execute(\"SELECT * FROM crimes.boston_crimes\")\n",
    "print('Number of data rows loaded: ', len(cur.fetchall()))"
   ]
  },
  {
   "cell_type": "markdown",
   "metadata": {},
   "source": [
    "## Managing user privileges\n",
    "\n",
    "We revoke all privileges of the `public` group on the `public` schema to ensure that users will not inherit privileges on that schema such as the ability to create tables in the `public` schema.\n",
    "\n",
    "We also need to revoke all privileges in the newly created schema. Doing this also makes it so that we do not need to revoke the privileges when we create users and groups because unless specified otherwise, privileges are not granted by default."
   ]
  },
  {
   "cell_type": "code",
   "execution_count": 26,
   "metadata": {
    "collapsed": true
   },
   "outputs": [],
   "source": [
    "cur.execute(\"REVOKE ALL ON SCHEMA public FROM public;\")\n",
    "cur.execute(\"REVOKE ALL ON DATABASE crime_db FROM public;\")"
   ]
  },
  {
   "cell_type": "markdown",
   "metadata": {},
   "source": [
    "### Creating a readonly group\n",
    "\n",
    "We create a `readonly` group with NOLOGIN because it is a group and not a user. We grant the group the ability to connect to the `crime_db` and the ability to use the `crimes` schema.\n",
    "\n",
    "Then we deal with tables privileges by granting SELECT. We also add an extra line compared with what was asked. This extra line changes the way that privileges are given by default to the readonly group on new table that are created on the crimes schema. As we mentioned, by default privileges are not given. However we change this so that by default any user in the readonly group can issue select commands."
   ]
  },
  {
   "cell_type": "code",
   "execution_count": 27,
   "metadata": {
    "collapsed": true
   },
   "outputs": [],
   "source": [
    "cur.execute(\"CREATE GROUP readonly NOLOGIN;\")\n",
    "cur.execute(\"GRANT CONNECT ON DATABASE crime_db TO readonly;\")\n",
    "cur.execute(\"GRANT USAGE ON SCHEMA crimes TO readonly;\")\n",
    "cur.execute(\"GRANT SELECT ON ALL TABLES IN SCHEMA crimes TO readonly;\")"
   ]
  },
  {
   "cell_type": "markdown",
   "metadata": {},
   "source": [
    "### Creating a read-write group\n",
    "\n",
    "Similar to the `readonly` group, we create a `readwrite` group with NOLOGIN. We give additional table privileges by granting SELECT, INSERT, UPDATE and DELETE."
   ]
  },
  {
   "cell_type": "code",
   "execution_count": 28,
   "metadata": {
    "collapsed": true
   },
   "outputs": [],
   "source": [
    "cur.execute(\"CREATE GROUP readwrite NOLOGIN;\")\n",
    "cur.execute(\"GRANT CONNECT ON DATABASE crime_db TO readwrite;\")\n",
    "cur.execute(\"GRANT USAGE ON SCHEMA crimes TO readwrite;\")\n",
    "cur.execute(\"GRANT SELECT, INSERT, UPDATE, DELETE ON ALL TABLES IN SCHEMA crimes TO readwrite;\")"
   ]
  },
  {
   "cell_type": "markdown",
   "metadata": {},
   "source": [
    "### Creating test users\n",
    "\n",
    "We now will test these newly created groups with a couple of test users: \n",
    "\n",
    "- user: **data_analyst**, password: *secret1*, group: `readonly`.\n",
    "- user: **data_scientist**, password: *secret2*, group: `readwrite`"
   ]
  },
  {
   "cell_type": "code",
   "execution_count": 29,
   "metadata": {
    "collapsed": true
   },
   "outputs": [],
   "source": [
    "cur.execute(\"CREATE USER data_analyst WITH PASSWORD 'secret1';\")\n",
    "cur.execute(\"GRANT readonly TO data_analyst;\")\n",
    "\n",
    "cur.execute(\"CREATE USER data_scientist WITH PASSWORD 'secret2';\")\n",
    "cur.execute(\"GRANT readwrite TO data_scientist;\")"
   ]
  },
  {
   "cell_type": "markdown",
   "metadata": {},
   "source": [
    "## Testing\n",
    "\n",
    "We will now test the database setup using SQL queries on the `pg_roles` table and `information_schema.table_privileges`.\n",
    "\n",
    "In the `pg_roles` table we will check database related privileges and for that we will look at the following columns:\n",
    "\n",
    "- `rolname`: The name of the user / group that the privilege refers to.\n",
    "- `rolsuper`: Whether this user / group is a super user. It should be set to False on every user / group that we have created.\n",
    "- `rolcreaterole`: Whether user / group can create users, groups or roles. It should be False on every user / group that we have created.\n",
    "- `rolcreatedb`: Whether user / group can create databases. It should be False on every user / group that we have created.\n",
    "- `rolcanlogin`: Whether user / group can login. It should be True on the users and False on the groups that we have created.\n",
    "\n",
    "In the `information_schema.table_privileges` we will check privileges related to SQL queries on tables. We will list the privileges of each group that we have created."
   ]
  },
  {
   "cell_type": "code",
   "execution_count": 31,
   "metadata": {
    "collapsed": false
   },
   "outputs": [
    {
     "name": "stdout",
     "output_type": "stream",
     "text": [
      "('readonly', False, False, False, False)\n",
      "('readwrite', False, False, False, False)\n",
      "('data_analyst', False, False, False, True)\n",
      "('data_scientist', False, False, False, True)\n",
      "\n",
      "('readonly', 'SELECT')\n",
      "('readwrite', 'INSERT')\n",
      "('readwrite', 'SELECT')\n",
      "('readwrite', 'UPDATE')\n",
      "('readwrite', 'DELETE')\n"
     ]
    }
   ],
   "source": [
    "# close the old connection to test with a brand new connection\n",
    "conn.close()\n",
    "\n",
    "conn = psycopg2.connect(dbname=\"crime_db\", user=\"dq\")\n",
    "cur = conn.cursor()\n",
    "# check users and groups\n",
    "cur.execute(\"\"\"\n",
    "    SELECT rolname, rolsuper, rolcreaterole, rolcreatedb, rolcanlogin FROM pg_roles\n",
    "    WHERE rolname IN ('readonly', 'readwrite', 'data_analyst', 'data_scientist');\n",
    "\"\"\")\n",
    "for user in cur:\n",
    "    print(user)\n",
    "print()\n",
    "# check privileges\n",
    "cur.execute(\"\"\"\n",
    "    SELECT grantee, privilege_type\n",
    "    FROM information_schema.table_privileges\n",
    "    WHERE grantee IN ('readonly', 'readwrite');\n",
    "\"\"\")\n",
    "for user in cur:\n",
    "    print(user)\n",
    "conn.close()"
   ]
  },
  {
   "cell_type": "code",
   "execution_count": null,
   "metadata": {
    "collapsed": true
   },
   "outputs": [],
   "source": []
  }
 ],
 "metadata": {
  "kernelspec": {
   "display_name": "Python 3",
   "language": "python",
   "name": "python3"
  },
  "language_info": {
   "codemirror_mode": {
    "name": "ipython",
    "version": 3
   },
   "file_extension": ".py",
   "mimetype": "text/x-python",
   "name": "python",
   "nbconvert_exporter": "python",
   "pygments_lexer": "ipython3",
   "version": "3.4.3"
  }
 },
 "nbformat": 4,
 "nbformat_minor": 2
}
