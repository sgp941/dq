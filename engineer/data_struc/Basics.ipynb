{
 "cells": [
  {
   "cell_type": "markdown",
   "metadata": {
    "collapsed": true
   },
   "source": [
    "## Analysing Stock Prices\n",
    "\n",
    "In this guided project, we are working with stock market data that was downloaded from [Yahoo Finance](https://finance.yahoo.com/) using the `yahoo_finance` Python package. \n",
    "\n",
    "This data consists of the daily stock prices from 2007-1-1 to 2017-04-17 for several hundred stock symbols traded on the NASDAQ stock exchange, stored in the prices folder. The `download_data.py` script in the same folder as the Jupyter notebook was used to download all of the stock price data."
   ]
  },
  {
   "cell_type": "code",
   "execution_count": 14,
   "metadata": {},
   "outputs": [],
   "source": [
    "import concurrent.futures\n",
    "import os\n",
    "\n",
    "def read_file(filename):\n",
    "    with open(filename, 'r') as f:\n",
    "        data = f.read().strip()\n",
    "    key = filename.replace(\".csv\", \"\").replace(\"prices/\", \"\")\n",
    "    data = data.split(\"\\n\")\n",
    "    data = [d.split(\",\") for d in data]\n",
    "    return key, data\n",
    "\n",
    "results = []\n",
    "pool = concurrent.futures.ProcessPoolExecutor(max_workers=2)\n",
    "filenames = [\"prices/{}\".format(f) for f in os.listdir(\"prices\")]\n",
    "prices = pool.map(read_file, filenames)\n",
    "prices = dict(list(prices))"
   ]
  },
  {
   "cell_type": "code",
   "execution_count": 66,
   "metadata": {},
   "outputs": [
    {
     "name": "stdout",
     "output_type": "stream",
     "text": [
      "\n",
      " Stock: CSCO \n",
      "\n",
      "['date', 'close', 'open', 'high', 'low', 'volume']\n",
      "['2007-01-03', '27.73', '27.459999', '27.98', '27.33', '64226000']\n",
      "['2007-01-04', '28.459999', '27.68', '28.49', '27.540001', '73012100']\n",
      "['2007-01-05', '28.469999', '28.440001', '28.57', '28.049999', '62647800']\n",
      "['2007-01-08', '28.629999', '28.540001', '28.74', '28.32', '47936500']\n",
      "\n",
      " Stock: BIOS \n",
      "\n",
      "['date', 'close', 'open', 'high', 'low', 'volume']\n",
      "['2007-01-03', '3.41', '3.49', '3.49', '3.37', '91300']\n",
      "['2007-01-04', '3.42', '3.43', '3.48', '3.41', '91900']\n",
      "['2007-01-05', '3.46', '3.44', '3.53', '3.42', '126700']\n",
      "['2007-01-08', '3.44', '3.48', '3.55', '3.44', '166300']\n",
      "\n",
      " Stock: CSBK \n",
      "\n",
      "['date', 'close', 'open', 'high', 'low', 'volume']\n",
      "['2007-01-03', '12.200004', '12.200004', '12.239996', '12.140001', '23300']\n",
      "['2007-01-04', '12.200004', '12.169998', '12.239996', '12.059997', '25400']\n",
      "['2007-01-05', '12.129996', '12.129996', '12.189998', '12.12', '27800']\n",
      "['2007-01-08', '12.180003', '12.12', '12.21', '12.070002', '46600']\n",
      "\n",
      "Time taken to access and print data: 0.0017368793487548828\n"
     ]
    }
   ],
   "source": [
    "import time\n",
    "\n",
    "# printing sample from data\n",
    "start = time.time()\n",
    "for k in list(prices)[:3]:\n",
    "    print('\\n Stock: {} \\n'.format(k.upper()))\n",
    "    for line in prices[k][:5]:\n",
    "        print(line)\n",
    "\n",
    "end = time.time()\n",
    "print('\\nTime taken to access and print data: {}'.format(end-start))"
   ]
  },
  {
   "cell_type": "markdown",
   "metadata": {},
   "source": [
    "Initially storing the data in hash (dict) -> array (list) -> array (list), as this matches the current format of data.\n",
    "\n",
    "## Computing aggregates\n",
    "\n",
    "Now that we've read in the data, we can use it to compute aggregates. For example, we can find:\n",
    "\n",
    "- The average closing price of all stocks over the time period.\n",
    "- The average volume for each stock.\n",
    "- The average difference between the opening price and closing price for each stock.\n",
    "- The average difference between the high and low for each stock.\n",
    "\n",
    "Start by changing format of data to hash (dict) -> hash (dict) -> array (list), to make the data more usable."
   ]
  },
  {
   "cell_type": "code",
   "execution_count": 16,
   "metadata": {},
   "outputs": [],
   "source": [
    "from dateutil.parser import parse\n",
    "\n",
    "prices_dict = {}\n",
    "for stock, data in prices.items():\n",
    "    headers = data[0]\n",
    "    stock_dict = {}\n",
    "    for i, h in enumerate(headers):\n",
    "        if i == 0:\n",
    "            stock_dict[h] = [parse(line[i]) for line in data[1:]]\n",
    "        else:\n",
    "            stock_dict[h] = [float(line[i]) for line in data[1:]]\n",
    "            \n",
    "    prices_dict[stock] = stock_dict"
   ]
  },
  {
   "cell_type": "markdown",
   "metadata": {},
   "source": [
    "### Average closing price"
   ]
  },
  {
   "cell_type": "code",
   "execution_count": 75,
   "metadata": {},
   "outputs": [
    {
     "name": "stdout",
     "output_type": "stream",
     "text": [
      "Highest priced stocks on average at closing:\n",
      "\n",
      "STOCK | AVG CLOSING PRICE\n",
      "AMZN | 275.1340775710425\n",
      "AAPL | 257.1765404023166\n",
      "\n",
      "Lowest priced stocks on average at closing:\n",
      "\n",
      "STOCK | AVG CLOSING PRICE\n",
      "BLFS | 0.8122763011583012\n",
      "APDN | 0.8241009938223939\n"
     ]
    }
   ],
   "source": [
    "from statistics import mean\n",
    "\n",
    "average_closing = {}\n",
    "for stock,data in prices_dict.items():\n",
    "    average_closing[stock] = mean(data[\"close\"])\n",
    "    \n",
    "closing_tuples = [(k,v) for k,v in average_closing.items()]\n",
    "ordered_closing = sorted(closing_tuples, key=lambda x:x[1])\n",
    "\n",
    "print('Highest priced stocks on average at closing:\\n')\n",
    "print('STOCK | AVG CLOSING PRICE')\n",
    "print(ordered_closing[-1][0].upper(), '|', ordered_closing[-1][1])\n",
    "print(ordered_closing[-2][0].upper(), '|', ordered_closing[-2][1])\n",
    "print('\\nLowest priced stocks on average at closing:\\n')\n",
    "print('STOCK | AVG CLOSING PRICE')\n",
    "print(ordered_closing[0][0].upper(), '|', ordered_closing[0][1])\n",
    "print(ordered_closing[1][0].upper(), '|', ordered_closing[1][1])"
   ]
  },
  {
   "cell_type": "markdown",
   "metadata": {},
   "source": [
    "It appears the AMZN and AAPL have the highest average closing prices, while BLFS, and APDN have the lowest average closing prices.\n",
    "\n",
    "### Average daily volume"
   ]
  },
  {
   "cell_type": "code",
   "execution_count": 76,
   "metadata": {},
   "outputs": [
    {
     "name": "stdout",
     "output_type": "stream",
     "text": [
      "Most traded stocks on average:\n",
      "\n",
      "STOCK | AVG DAILY VOLUME\n",
      "AAPL | 130112422.35521236\n",
      "CSCO | 45224781.428571425\n",
      "\n",
      "Least traded stocks on average:\n",
      "\n",
      "STOCK | AVG DAILY VOLUME\n",
      "DGICB | 509.72972972972974\n",
      "EMCF | 637.3745173745174\n"
     ]
    }
   ],
   "source": [
    "average_volume = {}\n",
    "for stock,data in prices_dict.items():\n",
    "    average_volume[stock] = mean(data[\"volume\"])\n",
    "    \n",
    "volume_tuples = [(k,v) for k,v in average_volume.items()]\n",
    "ordered_volume = sorted(volume_tuples, key=lambda x:x[1])\n",
    "\n",
    "print('Most traded stocks on average:\\n')\n",
    "print('STOCK | AVG DAILY VOLUME')\n",
    "print(ordered_volume[-1][0].upper(), '|', ordered_volume[-1][1])\n",
    "print(ordered_volume[-2][0].upper(), '|', ordered_volume[-2][1])\n",
    "\n",
    "print('\\nLeast traded stocks on average:\\n')\n",
    "print('STOCK | AVG DAILY VOLUME')\n",
    "print(ordered_volume[0][0].upper(), '|', ordered_volume[0][1])\n",
    "print(ordered_volume[1][0].upper(), '|', ordered_volume[1][1])"
   ]
  },
  {
   "cell_type": "markdown",
   "metadata": {},
   "source": [
    "It appears the CSCO and AAPL have the highest average trading volume, while DGICB, and EMCF have the lowest average closing prices.\n",
    "\n",
    "### Average daily price range"
   ]
  },
  {
   "cell_type": "code",
   "execution_count": 73,
   "metadata": {},
   "outputs": [
    {
     "name": "stdout",
     "output_type": "stream",
     "text": [
      "Stocks with widest open-close price range on average:\n",
      "\n",
      "STOCK | AVG OPEN-CLOSE PRICE RANGE\n",
      "CME | 3.6001273864864864\n",
      "BIDU | 3.5598418084942085\n",
      "\n",
      "Stocks with smallest open-close price range on average:\n",
      "\n",
      "STOCK | AVG OPEN-CLOSE PRICE RANGE\n",
      "EQFN | 0.02162548301158301\n",
      "BMRA | 0.025084942084942084\n"
     ]
    }
   ],
   "source": [
    "open_close = {}\n",
    "for stock,data in prices_dict.items():\n",
    "    day_diff = []\n",
    "    max_range = []\n",
    "    for i in range(len(data['close'])):\n",
    "        day_diff.append(abs(data['close'][i] - data['open'][i]))\n",
    "        max_range.append(abs(data['high'][i] - data['low'][i]))\n",
    "    open_close[stock] = [mean(day_diff), mean(max_range)]\n",
    "    \n",
    "    \n",
    "range_tuples = [(k,v[0]) for k,v in open_close.items()]\n",
    "ordered_range = sorted(range_tuples, key=lambda x:x[1])\n",
    "\n",
    "print('Stocks with widest open-close price range on average:\\n')\n",
    "print('STOCK | AVG OPEN-CLOSE PRICE RANGE')\n",
    "print(ordered_range[-1][0].upper(), '|', ordered_range[-1][1])\n",
    "print(ordered_range[-2][0].upper(), '|', ordered_range[-2][1])\n",
    "print('\\nStocks with smallest open-close price range on average:\\n')\n",
    "print('STOCK | AVG OPEN-CLOSE PRICE RANGE')\n",
    "print(ordered_range[0][0].upper(), '|', ordered_range[0][1])\n",
    "print(ordered_range[1][0].upper(), '|', ordered_range[1][1])"
   ]
  },
  {
   "cell_type": "code",
   "execution_count": 74,
   "metadata": {},
   "outputs": [
    {
     "name": "stdout",
     "output_type": "stream",
     "text": [
      "Most volatile stocks based on highest average min-max daily range:\n",
      "\n",
      "STOCK | AVG HIGH-LOW PRICE RANGE\n",
      "CME | 7.094718135521235\n",
      "BIDU | 7.071447906563706\n",
      "\n",
      "Most stable stocks based on lowest average min-max daily range:\n",
      "\n",
      "STOCK | AVG HIGH-LOW PRICE RANGE\n",
      "EQFN | 0.029586873359073357\n",
      "BMRA | 0.042243243243243245\n"
     ]
    }
   ],
   "source": [
    "range_tuples = [(k,v[1]) for k,v in open_close.items()]\n",
    "ordered_range = sorted(range_tuples, key=lambda x:x[1])\n",
    "\n",
    "print('Most volatile stocks based on highest average min-max daily range:\\n')\n",
    "print('STOCK | AVG HIGH-LOW PRICE RANGE')\n",
    "print(ordered_range[-1][0].upper(), '|', ordered_range[-1][1])\n",
    "print(ordered_range[-2][0].upper(), '|', ordered_range[-2][1])\n",
    "print('\\nMost stable stocks based on lowest average min-max daily range:\\n')\n",
    "print('STOCK | AVG HIGH-LOW PRICE RANGE')\n",
    "print(ordered_range[0][0].upper(), '|', ordered_range[0][1])\n",
    "print(ordered_range[1][0].upper(), '|', ordered_range[1][1])"
   ]
  },
  {
   "cell_type": "markdown",
   "metadata": {},
   "source": [
    "It appears the CME and BIDU have the largest min-max daily price range, as well as the widest open-close price differende. EQFN, and BMRA have the lowest ranges for both the min-max and open-close price differences.\n",
    "\n",
    "### Most traded stock daily"
   ]
  },
  {
   "cell_type": "code",
   "execution_count": 61,
   "metadata": {},
   "outputs": [
    {
     "name": "stdout",
     "output_type": "stream",
     "text": [
      "DATE | STOCK\n",
      "03, Jan 2007 | AAPL\n",
      "04, Jan 2007 | AAPL\n",
      "05, Jan 2007 | AAPL\n",
      "08, Jan 2007 | AAPL\n",
      "09, Jan 2007 | AAPL\n"
     ]
    }
   ],
   "source": [
    "trades = {}\n",
    "for stock,data in prices_dict.items():\n",
    "    dates = data['date']\n",
    "    for i, d in enumerate(dates):\n",
    "        if d in trades:\n",
    "            trades[d].append((stock, data['volume'][i]))\n",
    "        else:\n",
    "            trades[d] = [(stock, data['volume'][i])]\n",
    "\n",
    "most_traded = []\n",
    "for date,data in trades.items():\n",
    "    most_traded_stock = sorted(data, key=lambda x:x[1])[-1][0]\n",
    "    most_traded.append([date, most_traded_stock])\n",
    "    \n",
    "# print('Most traded stock between 3/1/2007 and 9/1/2007')\n",
    "print('DATE | STOCK')\n",
    "for i in range(5):\n",
    "    print(most_traded[i][0].strftime('%d, %b %Y'), '|', most_traded[i][1].upper())"
   ]
  },
  {
   "cell_type": "markdown",
   "metadata": {},
   "source": [
    "## Searching for high volume days\n",
    "\n",
    "Let's say we want to search for transactions in a list on a specific date. We can use a binary or a linear search for this, but binary search will be faster if we want to do repeated searches.\n",
    "\n",
    "Let's search for all transactions on days with unusually high volume. In order to do this, we'll need to:\n",
    "\n",
    "- Compute total volume of trading for each day\n",
    "- Sort and find the 10 highest volume days overall\n",
    "- Find all prices for all stocks on each of the high volume days"
   ]
  },
  {
   "cell_type": "code",
   "execution_count": 57,
   "metadata": {
    "scrolled": true
   },
   "outputs": [
    {
     "name": "stdout",
     "output_type": "stream",
     "text": [
      "Days with highest volume traded:\n",
      "\n",
      "DATE | TOTAL VOLUME\n",
      "23, Jan 2008 | 1964583900.0\n",
      "10, Oct 2008 | 1770266900.0\n",
      "26, Jul 2007 | 1611272800.0\n",
      "08, Oct 2008 | 1599183500.0\n",
      "22, Jan 2008 | 1578877700.0\n",
      "07, Feb 2008 | 1559032100.0\n",
      "29, Sep 2008 | 1555072400.0\n",
      "08, Nov 2007 | 1553880500.0\n",
      "16, Jan 2008 | 1536176400.0\n",
      "24, Jan 2008 | 1533363200.0\n"
     ]
    }
   ],
   "source": [
    "daily_volumes = {}\n",
    "for date, trades_vol in trades.items():\n",
    "    daily_volumes[date] = sum([item[1] for item in trades_vol])\n",
    "            \n",
    "volume_tuples = [(k,v) for k,v in daily_volumes.items()]\n",
    "daily_volumes = sorted(volume_tuples, key=lambda x:x[1])\n",
    "\n",
    "    \n",
    "print('Days with highest volume traded:\\n')\n",
    "print('DATE | TOTAL VOLUME')\n",
    "for i in range(-1, -11, -1):\n",
    "    print(daily_volumes[i][0].strftime('%d, %b %Y'), '|', daily_volumes[i][1])"
   ]
  },
  {
   "cell_type": "code",
   "execution_count": 63,
   "metadata": {},
   "outputs": [],
   "source": [
    "import math\n",
    "\n",
    "high_volume_days = [v[0] for v in daily_volumes[-10:]]\n",
    "\n",
    "def binary_search(array, search):\n",
    "    m = 0\n",
    "    i = 0\n",
    "    z = len(array) - 1\n",
    "    while i<= z:\n",
    "        m = math.floor(i + ((z - i) / 2))\n",
    "        if array[m] == search:\n",
    "            return m\n",
    "        elif array[m] < search:\n",
    "            i = m + 1\n",
    "        elif array[m] > search:\n",
    "            z = m - 1\n",
    "\n",
    "high_volume_transactions = {}\n",
    "for stock, data in prices_dict.items():\n",
    "    for day in high_volume_days:\n",
    "        date_idx = binary_search(data[\"date\"], day)\n",
    "        if date_idx is None:\n",
    "            continue\n",
    "        elif stock not in high_volume_transactions:\n",
    "            high_volume_transactions[date] = []\n",
    "        else:\n",
    "            high_volume_transactions[stock].append(prices[stock][date_idx])"
   ]
  },
  {
   "cell_type": "markdown",
   "metadata": {},
   "source": [
    "## Finding profitable stocks\n",
    "\n",
    "Now that we've done some basic analysis, let's see which stocks would have been the most profitable to buy on 2007-01-03. We can do this by:\n",
    "\n",
    "- Subtracting the initial price from the final price, then computing a percentage relative to the initial price. This will tell us how much our initial investment would have grown or shrunk.\n",
    "- Sorting all of the percentages.\n",
    "- Finding the stock that grew the most in the time period."
   ]
  },
  {
   "cell_type": "code",
   "execution_count": 65,
   "metadata": {},
   "outputs": [
    {
     "data": {
      "text/plain": [
       "[['achc', 1330.0000666666667],\n",
       " ['bcli', 1339.2137535980346],\n",
       " ['cui', 1525.1625162516252],\n",
       " ['apdn', 1549.6700659868025],\n",
       " ['anip', 1707.3554472785033],\n",
       " ['amzn', 2230.7234281466817],\n",
       " ['blfs', 2437.4365640858978],\n",
       " ['arcw', 3898.60048982856],\n",
       " ['adxs', 4005.0000000000005],\n",
       " ['admp', 7483.8389225948395]]"
      ]
     },
     "execution_count": 65,
     "metadata": {},
     "output_type": "execute_result"
    }
   ],
   "source": [
    "profits = []\n",
    "for stock, data in prices_dict.items():\n",
    "    percentage = (data[\"close\"][-1] - data[\"close\"][0]) / data[\"close\"][0]\n",
    "    profits.append([stock,percentage * 100])\n",
    "\n",
    "profits = sorted(profits, key=lambda x: x[1])\n",
    "\n",
    "profits[-10:]"
   ]
  },
  {
   "cell_type": "markdown",
   "metadata": {},
   "source": [
    "The most profitable stock to buy in 2007 would have been ADMP, which appreciated from around 7 cents to its current price of 4.43.\n",
    "\n",
    "## Next steps\n",
    "\n",
    "We've done some basic analysis of the data, but there's still quite a bit more depth to go into:\n",
    "\n",
    "- What stocks would have been best to short at the start of the period?\n",
    "- Which stocks have the most after-hours trading, and show the biggest changes between the closing price and the next day open?\n",
    "- Can technical indicators like Bollinger Bands help us forecast the market?\n",
    "- What time periods have resulted in steady increases in prices, and what periods have resulted in steady declines?\n",
    "- Based on price, what was the optimal day to buy each stock if we wanted to hold them until now?\n",
    "- On days with high trading volume, do stocks move in one direction (up or down) more than the other one?"
   ]
  },
  {
   "cell_type": "code",
   "execution_count": null,
   "metadata": {},
   "outputs": [],
   "source": []
  }
 ],
 "metadata": {
  "kernelspec": {
   "display_name": "Python 3",
   "language": "python",
   "name": "python3"
  },
  "language_info": {
   "codemirror_mode": {
    "name": "ipython",
    "version": 3
   },
   "file_extension": ".py",
   "mimetype": "text/x-python",
   "name": "python",
   "nbconvert_exporter": "python",
   "pygments_lexer": "ipython3",
   "version": "3.6.1"
  }
 },
 "nbformat": 4,
 "nbformat_minor": 1
}
