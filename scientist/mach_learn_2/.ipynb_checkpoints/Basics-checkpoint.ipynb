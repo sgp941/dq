{
 "cells": [
  {
   "cell_type": "markdown",
   "metadata": {
    "collapsed": true
   },
   "source": [
    "# Predicting House Sale Prices\n",
    "\n",
    "In this project we will be attempting to model house prices using housing data for the city of Ames, Iowa, between the years of 2006 and 2010. This data collection was based around [this](https://www.tandfonline.com/doi/abs/10.1080/10691898.2011.11889627) published paper. Further information on the data columns is available [here](https://s3.amazonaws.com/dq-content/307/data_description.txt)."
   ]
  },
  {
   "cell_type": "code",
   "execution_count": 29,
   "metadata": {
    "collapsed": true
   },
   "outputs": [],
   "source": [
    "# importing all necessary python modules\n",
    "import pandas as pd\n",
    "import numpy as np\n",
    "import matplotlib.pyplot as plt\n",
    "%matplotlib inline\n",
    "import seaborn as sns\n",
    "from sklearn.metrics import mean_squared_error\n",
    "from sklearn import linear_model\n",
    "from sklearn.model_selection import KFold"
   ]
  },
  {
   "cell_type": "code",
   "execution_count": 2,
   "metadata": {
    "collapsed": false
   },
   "outputs": [],
   "source": [
    "ames = pd.read_csv('AmesHousing.tsv', sep='\\t')"
   ]
  },
  {
   "cell_type": "markdown",
   "metadata": {},
   "source": [
    "With the data read-in, we can start by building the pipeline we want to use. We will use three steps:\n",
    "\n",
    "1. Transform the features into usable data\n",
    "2. Select the relevant features\n",
    "3. Build the model and test accuracy"
   ]
  },
  {
   "cell_type": "code",
   "execution_count": 3,
   "metadata": {
    "collapsed": true
   },
   "outputs": [],
   "source": [
    "def transform_features(df):\n",
    "    return df"
   ]
  },
  {
   "cell_type": "code",
   "execution_count": 4,
   "metadata": {
    "collapsed": true
   },
   "outputs": [],
   "source": [
    "def select_features(df):\n",
    "    feature_cols = ['Gr Liv Area', 'SalePrice']\n",
    "    return df[feature_cols]"
   ]
  },
  {
   "cell_type": "code",
   "execution_count": 5,
   "metadata": {
    "collapsed": true
   },
   "outputs": [],
   "source": [
    "def train_and_test(df):\n",
    "    train = df.iloc[:1460]\n",
    "    test = df.iloc[1460:]\n",
    "    \n",
    "    # seperate out the numerical data\n",
    "    numeric_train = train.select_dtypes(include=['integer', 'float'])\n",
    "    numeric_test = test.select_dtypes(include=['integer', 'float'])\n",
    "    \n",
    "    features = numeric_train.columns.drop('SalePrice')\n",
    "    target = 'SalePrice'\n",
    "    \n",
    "    # build and execute model\n",
    "    lr = linear_model.LinearRegression()\n",
    "    lr.fit(train[features], train[target])\n",
    "    prediction = lr.predict(test[features])\n",
    "    \n",
    "    # test model accuracy\n",
    "    mse = mean_squared_error(test[target], prediction)\n",
    "    rmse = np.sqrt(mse)\n",
    "    return rmse"
   ]
  },
  {
   "cell_type": "code",
   "execution_count": 6,
   "metadata": {
    "collapsed": false
   },
   "outputs": [
    {
     "name": "stdout",
     "output_type": "stream",
     "text": [
      "The RMSE for this model is 57088.25\n"
     ]
    }
   ],
   "source": [
    "ames_transform = transform_features(ames)\n",
    "ames_features = select_features(ames_transform)\n",
    "ames_rmse = train_and_test(ames_features)\n",
    "print('The RMSE for this model is {:.2f}'.format(ames_rmse))"
   ]
  },
  {
   "cell_type": "markdown",
   "metadata": {},
   "source": [
    "## Feature engineering\n",
    "\n",
    "Let's now start removing features with many missing values, diving deeper into potential categorical features, and transforming text and numerical columns. The goal here is threefold:\n",
    "\n",
    "1. Remove features that we don't want to use in the model, just based on the number of missing values or data leakage\n",
    "2. Transform features into the proper format (numerical to categorical, scaling numerical, filling in missing values, etc)\n",
    "3. Create new features by combining other features\n",
    "\n",
    "Starting with missing values..."
   ]
  },
  {
   "cell_type": "code",
   "execution_count": 7,
   "metadata": {
    "collapsed": false
   },
   "outputs": [],
   "source": [
    "missing = ames.isnull().sum().sort_values(ascending=False)"
   ]
  },
  {
   "cell_type": "code",
   "execution_count": 8,
   "metadata": {
    "collapsed": false
   },
   "outputs": [
    {
     "data": {
      "text/plain": [
       "Pool QC          2917\n",
       "Misc Feature     2824\n",
       "Alley            2732\n",
       "Fence            2358\n",
       "Fireplace Qu     1422\n",
       "Lot Frontage      490\n",
       "Garage Qual       159\n",
       "Garage Yr Blt     159\n",
       "Garage Cond       159\n",
       "Garage Finish     159\n",
       "Garage Type       157\n",
       "dtype: int64"
      ]
     },
     "execution_count": 8,
     "metadata": {},
     "output_type": "execute_result"
    }
   ],
   "source": [
    "# remove cols with over 5% of missing data\n",
    "total_vals = ames.shape[0]\n",
    "remove_cols = missing[missing/total_vals > 0.05]\n",
    "remove_cols"
   ]
  },
  {
   "cell_type": "code",
   "execution_count": 9,
   "metadata": {
    "collapsed": false
   },
   "outputs": [
    {
     "name": "stdout",
     "output_type": "stream",
     "text": [
      "71 columns are left, after dropping the 11 with over 5% of missing data\n"
     ]
    }
   ],
   "source": [
    "keep_cols = ames.columns.drop(remove_cols.index)\n",
    "ames_full = ames[keep_cols]\n",
    "print('{} columns are left, after dropping the {} with over 5% of missing data'.format(ames_full.shape[1], ames.shape[1]-ames_full.shape[1]))"
   ]
  },
  {
   "cell_type": "code",
   "execution_count": 10,
   "metadata": {
    "collapsed": false
   },
   "outputs": [
    {
     "name": "stdout",
     "output_type": "stream",
     "text": [
      "34 textual columns\n",
      "37 numerical columns\n"
     ]
    }
   ],
   "source": [
    "# seperate out numerical data\n",
    "ames_num = ames_full.select_dtypes(include=['int', 'float'])\n",
    "ames_txt = ames_full.drop(ames_num.columns, axis=1)\n",
    "print('{} textual columns'.format(ames_txt.shape[1]))\n",
    "print('{} numerical columns'.format(ames_num.shape[1]))"
   ]
  },
  {
   "cell_type": "code",
   "execution_count": 11,
   "metadata": {
    "collapsed": false
   },
   "outputs": [
    {
     "data": {
      "text/plain": [
       "Mas Vnr Area      23\n",
       "Bsmt Half Bath     2\n",
       "Bsmt Full Bath     2\n",
       "Garage Cars        1\n",
       "BsmtFin SF 1       1\n",
       "dtype: int64"
      ]
     },
     "execution_count": 11,
     "metadata": {},
     "output_type": "execute_result"
    }
   ],
   "source": [
    "# top 5 numerical columns with most missing values\n",
    "ames_num.isnull().sum().sort_values(ascending=False).head()"
   ]
  },
  {
   "cell_type": "code",
   "execution_count": 12,
   "metadata": {
    "collapsed": false
   },
   "outputs": [
    {
     "data": {
      "text/plain": [
       "0    37\n",
       "dtype: int64"
      ]
     },
     "execution_count": 12,
     "metadata": {},
     "output_type": "execute_result"
    }
   ],
   "source": [
    "# replace missing values with Mode\n",
    "ames_num = ames_num.fillna(value=ames_num.mode().iloc[0])\n",
    "ames_num.isnull().sum().value_counts()"
   ]
  },
  {
   "cell_type": "code",
   "execution_count": 13,
   "metadata": {
    "collapsed": false
   },
   "outputs": [
    {
     "data": {
      "text/plain": [
       "Bsmt Exposure     83\n",
       "BsmtFin Type 2    81\n",
       "BsmtFin Type 1    80\n",
       "Bsmt Qual         80\n",
       "Bsmt Cond         80\n",
       "Mas Vnr Type      23\n",
       "Electrical         1\n",
       "dtype: int64"
      ]
     },
     "execution_count": 13,
     "metadata": {},
     "output_type": "execute_result"
    }
   ],
   "source": [
    "# missing textual values\n",
    "missing_txt = ames_txt.isnull().sum().sort_values(ascending=False).head(7)\n",
    "missing_txt"
   ]
  },
  {
   "cell_type": "code",
   "execution_count": 14,
   "metadata": {
    "collapsed": false
   },
   "outputs": [
    {
     "data": {
      "text/plain": [
       "0    27\n",
       "dtype: int64"
      ]
     },
     "execution_count": 14,
     "metadata": {},
     "output_type": "execute_result"
    }
   ],
   "source": [
    "# drop textual columns with missing values\n",
    "ames_txt = ames_txt.drop(missing_txt.index, axis=1)\n",
    "ames_txt.isnull().sum().value_counts()"
   ]
  },
  {
   "cell_type": "markdown",
   "metadata": {},
   "source": [
    "Now that we have dealt with missing values, we can create more meaningful features with the data we have. "
   ]
  },
  {
   "cell_type": "code",
   "execution_count": 15,
   "metadata": {
    "collapsed": false
   },
   "outputs": [],
   "source": [
    "# year colums converted to year differences\n",
    "ames_num['years_sold'] = ames_num['Yr Sold'] - ames_num['Year Built']\n",
    "ames_num['years_since_remod'] = ames_num['Yr Sold'] - ames_num['Year Remod/Add']\n",
    "\n",
    "# remove negative values\n",
    "pos_years = (ames_num['years_sold'] > 0) & (ames_num['years_since_remod'] > 0)\n",
    "ames_num = ames_num[pos_years]\n",
    "\n",
    "# remove old year columns\n",
    "ames_num = ames_num.drop(['Year Built', 'Year Remod/Add', 'Yr Sold'], axis = 1)"
   ]
  },
  {
   "cell_type": "markdown",
   "metadata": {},
   "source": [
    "Finally, we can drop any other columns which come under the two categories:\n",
    "\n",
    "1. Not usefuly for our machine learning model\n",
    "2. Leaking data about the final sale"
   ]
  },
  {
   "cell_type": "code",
   "execution_count": 16,
   "metadata": {
    "collapsed": false
   },
   "outputs": [
    {
     "name": "stdout",
     "output_type": "stream",
     "text": [
      "(2689, 33)\n",
      "(2930, 25)\n"
     ]
    }
   ],
   "source": [
    "# drop columns that aren't useful for ML\n",
    "ames_num = ames_num.drop(['PID', 'Order'], axis=1)\n",
    "\n",
    "# drop columns that leak info about the final sale\n",
    "ames_num = ames_num.drop(['Mo Sold'], axis=1)\n",
    "ames_txt = ames_txt.drop(['Sale Condition', 'Sale Type'], axis=1)\n",
    "\n",
    "print(ames_num.shape)\n",
    "print(ames_txt.shape)"
   ]
  },
  {
   "cell_type": "markdown",
   "metadata": {},
   "source": [
    "We can now integrate all of these methods into the transform features function from before."
   ]
  },
  {
   "cell_type": "code",
   "execution_count": 17,
   "metadata": {
    "collapsed": false
   },
   "outputs": [],
   "source": [
    "def transform_features(df):\n",
    "    # remove cols with over 5% missing\n",
    "    missing = df.isnull().sum().sort_values(ascending=False)\n",
    "    keep_cols = missing[missing/df.shape[0] < 0.05]\n",
    "    df = df[keep_cols.index]\n",
    "\n",
    "    # remove text cols with any missing data\n",
    "    missing_txt = df.select_dtypes(include=['object']).isnull().sum()\n",
    "    df = df.drop(missing_txt[missing_txt > 0].index, axis=1)\n",
    "\n",
    "    # fill in missing numerical with most common value\n",
    "    df_num = df.select_dtypes(include=['int', 'float'])\n",
    "    df_num = df_num.fillna(value=df_num.mode().iloc[0])\n",
    "    df[df_num.columns] = df_num\n",
    "\n",
    "    # year difference columns\n",
    "    df['years_sold'] = df['Yr Sold'] - df['Year Built']\n",
    "    df['years_since_remod'] = df['Yr Sold'] - df['Year Remod/Add']\n",
    "    pos_years = (df['years_sold'] > 0) & (df['years_since_remod'] > 0)\n",
    "    df = df[pos_years]\n",
    "    df = df.drop(['Year Built', 'Year Remod/Add', 'Yr Sold'], axis = 1)\n",
    "    \n",
    "    # drop other unnecessary columns\n",
    "    df = df.drop(['PID', 'Order', 'Mo Sold', 'Sale Condition', 'Sale Type'], axis=1)\n",
    "    return df"
   ]
  },
  {
   "cell_type": "code",
   "execution_count": 18,
   "metadata": {
    "collapsed": false
   },
   "outputs": [
    {
     "name": "stdout",
     "output_type": "stream",
     "text": [
      "The RMSE for this model is 47125.95\n"
     ]
    }
   ],
   "source": [
    "transform_ames = transform_features(ames)\n",
    "filtered_ames = select_features(transform_ames)\n",
    "ames_rmse = train_and_test(filtered_ames)\n",
    "print('The RMSE for this model is {:.2f}'.format(ames_rmse))"
   ]
  },
  {
   "cell_type": "markdown",
   "metadata": {
    "collapsed": true
   },
   "source": [
    "By going through some of these feature engineering steps we managed to reduce the RMSE of our model from ~57k to ~47k, which is a relatively significant change. \n",
    "\n",
    "## Feature selection\n",
    "\n",
    "Now that we have cleaned and transformed a lot of the features in the data set, it's time to move on to feature selection for numerical features."
   ]
  },
  {
   "cell_type": "code",
   "execution_count": 19,
   "metadata": {
    "collapsed": false
   },
   "outputs": [],
   "source": [
    "df_num = transform_ames.select_dtypes(include=['int', 'float'])\n",
    "corrmat = df_num.corr()\n",
    "sorted_corrs = corrmat['SalePrice'].abs().sort_values(ascending=False)\n",
    "key_corrs = sorted_corrs[sorted_corrs > 0.4]"
   ]
  },
  {
   "cell_type": "code",
   "execution_count": 20,
   "metadata": {
    "collapsed": false
   },
   "outputs": [
    {
     "data": {
      "image/png": "[encoded data removed]",
      "text/plain": [
       "<matplotlib.figure.Figure at 0x7f3ffc615c50>"
      ]
     },
     "metadata": {},
     "output_type": "display_data"
    }
   ],
   "source": [
    "corrmat = df_num[key_corrs.index].corr()\n",
    "sns.heatmap(corrmat)\n",
    "plt.show()"
   ]
  },
  {
   "cell_type": "code",
   "execution_count": 21,
   "metadata": {
    "collapsed": true
   },
   "outputs": [],
   "source": [
    "drop_corrs = sorted_corrs[sorted_corrs < 0.4]\n",
    "transform_ames = transform_ames.drop(drop_corrs.index, axis=1)"
   ]
  },
  {
   "cell_type": "markdown",
   "metadata": {
    "collapsed": true
   },
   "source": [
    "We will now look at converting categorical data into a more useful form. From the data documentation the following columns have been identified. Many of these may have been removed throughout the initial stages, so they first need to be checked if still present."
   ]
  },
  {
   "cell_type": "code",
   "execution_count": 25,
   "metadata": {
    "collapsed": false
   },
   "outputs": [
    {
     "data": {
      "text/plain": [
       "Condition 1     9\n",
       "House Style     8\n",
       "Condition 2     8\n",
       "Roof Matl       7\n",
       "MS Zoning       7\n",
       "Heating         6\n",
       "Foundation      6\n",
       "Roof Style      6\n",
       "Bldg Type       5\n",
       "Lot Config      5\n",
       "Land Contour    4\n",
       "Central Air     2\n",
       "Street          2\n",
       "dtype: int64"
      ]
     },
     "execution_count": 25,
     "metadata": {},
     "output_type": "execute_result"
    }
   ],
   "source": [
    "cat_features = [\"PID\", \"MS SubClass\", \"MS Zoning\", \"Street\", \"Alley\", \"Land Contour\", \"Lot Config\", \"Neighborhood\", \n",
    "                    \"Condition 1\", \"Condition 2\", \"Bldg Type\", \"House Style\", \"Roof Style\", \"Roof Matl\", \"Exterior 1st\", \n",
    "                    \"Exterior 2nd\", \"Mas Vnr Type\", \"Foundation\", \"Heating\", \"Central Air\", \"Garage Type\", \n",
    "                    \"Misc Feature\", \"Sale Type\", \"Sale Condition\"]\n",
    "cat_cols = []\n",
    "for col in cat_features:\n",
    "    if col in transform_ames:\n",
    "        cat_cols.append(col)\n",
    "        \n",
    "# unique values in each categorical column\n",
    "unique_count = transform_ames[cat_cols].apply(lambda col: len(col.value_counts())).sort_values(ascending=False)\n",
    "unique_count"
   ]
  },
  {
   "cell_type": "markdown",
   "metadata": {},
   "source": [
    "As we can see, the maximum number of unique values in all the remaining categorical columns is 9. This should not be too many to add back into the main dataframe when converted to columns, so we can proceed with all 13."
   ]
  },
  {
   "cell_type": "code",
   "execution_count": 26,
   "metadata": {
    "collapsed": true
   },
   "outputs": [],
   "source": [
    "remaining_cats = unique_count.index\n",
    "for col in remaining_cats:\n",
    "    transform_ames[col] = transform_ames[col].astype('category')\n",
    "    \n",
    "# create dummy columns and add back to the main dataframe\n",
    "transform_ames = pd.concat([\n",
    "    transform_ames, \n",
    "    pd.get_dummies(transform_ames.select_dtypes(include=['category']))\n",
    "], axis=1).drop(remaining_cats, axis=1)"
   ]
  },
  {
   "cell_type": "markdown",
   "metadata": {},
   "source": [
    "With this categorical data converted and pushed back into the main dataframe, a potential further step may be to explore how these columns correlate with our target SalePrice. For now we will re-build our select_features function, and continue on. "
   ]
  },
  {
   "cell_type": "code",
   "execution_count": 27,
   "metadata": {
    "collapsed": true
   },
   "outputs": [],
   "source": [
    "def select_features(df, coeff_threshold=0.4, uniq_threshold=10):\n",
    "    numerical_df = df.select_dtypes(include=['int', 'float'])\n",
    "    abs_corr_coeffs = numerical_df.corr()['SalePrice'].abs()\n",
    "    df = df.drop(abs_corr_coeffs[abs_corr_coeffs < coeff_threshold].index, axis=1)\n",
    "    \n",
    "    cat_features = [\"PID\", \"MS SubClass\", \"MS Zoning\", \"Street\", \"Alley\", \"Land Contour\", \"Lot Config\", \"Neighborhood\", \n",
    "                    \"Condition 1\", \"Condition 2\", \"Bldg Type\", \"House Style\", \"Roof Style\", \"Roof Matl\", \"Exterior 1st\", \n",
    "                    \"Exterior 2nd\", \"Mas Vnr Type\", \"Foundation\", \"Heating\", \"Central Air\", \"Garage Type\", \n",
    "                    \"Misc Feature\", \"Sale Type\", \"Sale Condition\"]\n",
    "    \n",
    "    cat_cols = []\n",
    "    for col in cat_features:\n",
    "        if col in df.columns:\n",
    "            cat_cols.append(col)\n",
    "\n",
    "    uniq_counts = df[cat_cols].apply(lambda col: len(col.value_counts()))\n",
    "    uniq_cols = uniq_counts[uniq_counts > uniq_threshold].index\n",
    "    df = df.drop(uniq_cols, axis=1)\n",
    "    \n",
    "    text_cols = df.select_dtypes(include=['object'])\n",
    "    for col in text_cols:\n",
    "        df[col] = df[col].astype('category')\n",
    "    df = pd.concat([df, pd.get_dummies(df.select_dtypes(include=['category']))], axis=1).drop(text_cols,axis=1)\n",
    "    \n",
    "    return df"
   ]
  },
  {
   "cell_type": "code",
   "execution_count": 28,
   "metadata": {
    "collapsed": false
   },
   "outputs": [
    {
     "name": "stdout",
     "output_type": "stream",
     "text": [
      "The RMSE for this model is 26415.72\n"
     ]
    }
   ],
   "source": [
    "transform_ames = transform_features(ames)\n",
    "filtered_ames = select_features(transform_ames)\n",
    "ames_rmse = train_and_test(filtered_ames)\n",
    "print('The RMSE for this model is {:.2f}'.format(ames_rmse))"
   ]
  },
  {
   "cell_type": "markdown",
   "metadata": {},
   "source": [
    "The feature selection had had a huge impact reducing the RMSE to almost half what it was after the feature engineering. We can now continue to the final step of Training and Testing. \n",
    "\n",
    "## Train & test\n",
    "\n",
    "When iterating on different features, using simple validation is a good idea. We will attempt to implement a cross-validation method to verify our results. "
   ]
  },
  {
   "cell_type": "code",
   "execution_count": 30,
   "metadata": {
    "collapsed": true
   },
   "outputs": [],
   "source": [
    "def train_and_test(df, k=0):\n",
    "    numeric_df = df.select_dtypes(include=['integer', 'float'])\n",
    "    features = numeric_df.columns.drop(\"SalePrice\")\n",
    "    lr = linear_model.LinearRegression()\n",
    "    \n",
    "    if k == 0:\n",
    "        train = df[:1460]\n",
    "        test = df[1460:]\n",
    "\n",
    "        lr.fit(train[features], train[\"SalePrice\"])\n",
    "        predictions = lr.predict(test[features])\n",
    "        mse = mean_squared_error(test[\"SalePrice\"], predictions)\n",
    "        rmse = np.sqrt(mse)\n",
    "\n",
    "        return rmse\n",
    "    \n",
    "    if k == 1:\n",
    "        # Randomize *all* rows (frac=1) from `df` and return\n",
    "        shuffled_df = df.sample(frac=1, )\n",
    "        train = df[:1460]\n",
    "        test = df[1460:]\n",
    "        \n",
    "        lr.fit(train[features], train[\"SalePrice\"])\n",
    "        predictions_one = lr.predict(test[features])        \n",
    "        \n",
    "        mse_one = mean_squared_error(test[\"SalePrice\"], predictions_one)\n",
    "        rmse_one = np.sqrt(mse_one)\n",
    "        \n",
    "        lr.fit(test[features], test[\"SalePrice\"])\n",
    "        predictions_two = lr.predict(train[features])        \n",
    "       \n",
    "        mse_two = mean_squared_error(train[\"SalePrice\"], predictions_two)\n",
    "        rmse_two = np.sqrt(mse_two)\n",
    "        \n",
    "        avg_rmse = np.mean([rmse_one, rmse_two])\n",
    "        print(rmse_one)\n",
    "        print(rmse_two)\n",
    "        return avg_rmse\n",
    "    else:\n",
    "        kf = KFold(n_splits=k, shuffle=True)\n",
    "        rmse_values = []\n",
    "        for train_index, test_index, in kf.split(df):\n",
    "            train = df.iloc[train_index]\n",
    "            test = df.iloc[test_index]\n",
    "            lr.fit(train[features], train[\"SalePrice\"])\n",
    "            predictions = lr.predict(test[features])\n",
    "            mse = mean_squared_error(test[\"SalePrice\"], predictions)\n",
    "            rmse = np.sqrt(mse)\n",
    "            rmse_values.append(rmse)\n",
    "        print(rmse_values)\n",
    "        avg_rmse = np.mean(rmse_values)\n",
    "        return avg_rmse"
   ]
  },
  {
   "cell_type": "code",
   "execution_count": 33,
   "metadata": {
    "collapsed": false
   },
   "outputs": [
    {
     "name": "stdout",
     "output_type": "stream",
     "text": [
      "[23515.713533857303, 24950.3303927328, 22954.828464464113, 26980.781302215368]\n",
      "The average RMSE for this model is 24600.41\n"
     ]
    }
   ],
   "source": [
    "ames_rmse = train_and_test(filtered_ames, k=4)\n",
    "print('The average RMSE for this model is {:.2f}'.format(ames_rmse))"
   ]
  },
  {
   "cell_type": "markdown",
   "metadata": {},
   "source": [
    "## Next steps...\n",
    "\n",
    "By running through some basic feature engineering and selection, we significantly improved our prediction results by lowering ouw error rate, and more thoroughly verified our results by implementing cross-validation. \n",
    "\n",
    "Here are some potential next steps:\n",
    "\n",
    "- Continue iteration on feature engineering:\n",
    "    - Research some other approaches to feature engineering online around housing data.\n",
    "- Improve your feature selection:\n",
    "    - Research ways of doing feature selection better with categorical columns."
   ]
  },
  {
   "cell_type": "code",
   "execution_count": null,
   "metadata": {
    "collapsed": true
   },
   "outputs": [],
   "source": []
  }
 ],
 "metadata": {
  "anaconda-cloud": {},
  "kernelspec": {
   "display_name": "Python 3",
   "language": "python",
   "name": "python3"
  },
  "language_info": {
   "codemirror_mode": {
    "name": "ipython",
    "version": 3
   },
   "file_extension": ".py",
   "mimetype": "text/x-python",
   "name": "python",
   "nbconvert_exporter": "python",
   "pygments_lexer": "ipython3",
   "version": "3.4.3"
  }
 },
 "nbformat": 4,
 "nbformat_minor": 2
}
